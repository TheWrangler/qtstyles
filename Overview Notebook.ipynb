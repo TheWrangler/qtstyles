{
 "cells": [
  {
   "cell_type": "markdown",
   "metadata": {},
   "source": [
    "# qstyles\n",
    "## The StylePicker class\n",
    "First we start by importing qstyles..."
   ]
  },
  {
   "cell_type": "code",
   "execution_count": 1,
   "metadata": {
    "collapsed": true
   },
   "outputs": [],
   "source": [
    "import qstyles"
   ]
  },
  {
   "cell_type": "markdown",
   "metadata": {},
   "source": [
    "Which contains a StylePicker class that we can use to list or pick an available style."
   ]
  },
  {
   "cell_type": "code",
   "execution_count": 2,
   "metadata": {},
   "outputs": [
    {
     "data": {
      "text/plain": [
       "<qstyles.loader.StylePicker at 0x662afd0>"
      ]
     },
     "execution_count": 2,
     "metadata": {},
     "output_type": "execute_result"
    }
   ],
   "source": [
    "picker = qstyles.StylePicker()\n",
    "picker"
   ]
  },
  {
   "cell_type": "markdown",
   "metadata": {},
   "source": [
    "From this instance we can get list of available styles using the 'available_styles' attribute."
   ]
  },
  {
   "cell_type": "code",
   "execution_count": 3,
   "metadata": {},
   "outputs": [
    {
     "data": {
      "text/plain": [
       "['qtdark',\n",
       " 'breeze-light',\n",
       " 'breeze-dark',\n",
       " 'dark-orange',\n",
       " 'coffee',\n",
       " 'light-blue',\n",
       " 'pagefold',\n",
       " 'default',\n",
       " 'dark-blue',\n",
       " 'light-orange',\n",
       " 'qdark',\n",
       " 'dark-green',\n",
       " 'material-blue',\n",
       " 'light-green']"
      ]
     },
     "execution_count": 3,
     "metadata": {},
     "output_type": "execute_result"
    }
   ],
   "source": [
    "picker.available_styles"
   ]
  },
  {
   "cell_type": "markdown",
   "metadata": {},
   "source": [
    "We can get the current style (which is 'default' if you don't provide one in the constructor)."
   ]
  },
  {
   "cell_type": "code",
   "execution_count": 4,
   "metadata": {},
   "outputs": [
    {
     "data": {
      "text/plain": [
       "'default'"
      ]
     },
     "execution_count": 4,
     "metadata": {},
     "output_type": "execute_result"
    }
   ],
   "source": [
    "picker.style"
   ]
  },
  {
   "cell_type": "code",
   "execution_count": 5,
   "metadata": {},
   "outputs": [
    {
     "ename": "StyleDoesntExistError",
     "evalue": "The requested style does not exist!",
     "output_type": "error",
     "traceback": [
      "\u001b[1;31m---------------------------------------------------------------------------\u001b[0m",
      "\u001b[1;31mStyleDoesntExistError\u001b[0m                     Traceback (most recent call last)",
      "\u001b[1;32m<ipython-input-5-41da3a7873c5>\u001b[0m in \u001b[0;36m<module>\u001b[1;34m()\u001b[0m\n\u001b[1;32m----> 1\u001b[1;33m \u001b[0mpicker\u001b[0m\u001b[1;33m.\u001b[0m\u001b[0mstyle\u001b[0m \u001b[1;33m=\u001b[0m \u001b[1;34m\"not a style...\"\u001b[0m \u001b[1;31m# this will throw an error is there is no associated style sheet\u001b[0m\u001b[1;33m\u001b[0m\u001b[0m\n\u001b[0m",
      "\u001b[1;32mC:\\Users\\simon.garisch\\Desktop\\git\\qstyles\\qstyles\\loader.pyc\u001b[0m in \u001b[0;36mstyle\u001b[1;34m(self, style)\u001b[0m\n\u001b[0;32m     81\u001b[0m     \u001b[1;32mdef\u001b[0m \u001b[0mstyle\u001b[0m\u001b[1;33m(\u001b[0m\u001b[0mself\u001b[0m\u001b[1;33m,\u001b[0m \u001b[0mstyle\u001b[0m\u001b[1;33m)\u001b[0m\u001b[1;33m:\u001b[0m\u001b[1;33m\u001b[0m\u001b[0m\n\u001b[0;32m     82\u001b[0m         \u001b[1;32mif\u001b[0m \u001b[0mstyle\u001b[0m \u001b[1;32mnot\u001b[0m \u001b[1;32min\u001b[0m \u001b[0mself\u001b[0m\u001b[1;33m.\u001b[0m\u001b[0mavailable_styles\u001b[0m\u001b[1;33m:\u001b[0m\u001b[1;33m\u001b[0m\u001b[0m\n\u001b[1;32m---> 83\u001b[1;33m             \u001b[1;32mraise\u001b[0m \u001b[0merrors\u001b[0m\u001b[1;33m.\u001b[0m\u001b[0mStyleDoesntExistError\u001b[0m\u001b[1;33m\u001b[0m\u001b[0m\n\u001b[0m\u001b[0;32m     84\u001b[0m         \u001b[0mself\u001b[0m\u001b[1;33m.\u001b[0m\u001b[0m_style\u001b[0m \u001b[1;33m=\u001b[0m \u001b[0mstyle\u001b[0m\u001b[1;33m\u001b[0m\u001b[0m\n\u001b[0;32m     85\u001b[0m \u001b[1;33m\u001b[0m\u001b[0m\n",
      "\u001b[1;31mStyleDoesntExistError\u001b[0m: The requested style does not exist!"
     ]
    }
   ],
   "source": [
    "picker.style = \"not a style...\" # this will throw an error is there is no associated style sheet"
   ]
  },
  {
   "cell_type": "code",
   "execution_count": 6,
   "metadata": {
    "collapsed": true
   },
   "outputs": [],
   "source": [
    "picker.style = \"qdark\" # we can set the style for this instance to a valid style"
   ]
  },
  {
   "cell_type": "markdown",
   "metadata": {},
   "source": [
    "We can then collect the style sheet for this chosen style"
   ]
  },
  {
   "cell_type": "code",
   "execution_count": 7,
   "metadata": {},
   "outputs": [
    {
     "name": "stdout",
     "output_type": "stream",
     "text": [
      "(<type 'str'>, 26876)\n"
     ]
    }
   ],
   "source": [
    "style_sheet = picker.get_sheet()\n",
    "print(type(style_sheet), len(style_sheet)) # the style sheet is a string with x number of characters"
   ]
  },
  {
   "cell_type": "markdown",
   "metadata": {},
   "source": [
    "## The style picker widget\n",
    "In order to keep things simple there is a StylePickerWidget class that inherits from QtWidgets.QComboBox. When the style value is changed the app instance will immediately have its style sheet changed to the chosen style."
   ]
  },
  {
   "cell_type": "code",
   "execution_count": 1,
   "metadata": {},
   "outputs": [
    {
     "data": {
      "text/plain": [
       "True"
      ]
     },
     "execution_count": 1,
     "metadata": {},
     "output_type": "execute_result"
    }
   ],
   "source": [
    "from qtpy import QtWidgets\n",
    "from qstyles import StylePickerWidget\n",
    "\n",
    "# first we need the app instance in order to create any widgets\n",
    "app = QtWidgets.QApplication.instance()\n",
    "if not app:\n",
    "    app = QtWidgets.QApplication([])\n",
    "\n",
    "isinstance(StylePickerWidget(), QtWidgets.QComboBox)"
   ]
  },
  {
   "cell_type": "markdown",
   "metadata": {},
   "source": [
    "In the example below we place an instance of the StylePickerWidget class in the bottom left of the screen."
   ]
  },
  {
   "cell_type": "markdown",
   "metadata": {},
   "source": [
    "## A basic qstyle demo"
   ]
  },
  {
   "cell_type": "markdown",
   "metadata": {},
   "source": [
    "There is a basic login box demo available for where you can change your required style."
   ]
  },
  {
   "cell_type": "code",
   "execution_count": 4,
   "metadata": {},
   "outputs": [],
   "source": [
    "import qstyles\n",
    "\n",
    "qstyles.run_demo()"
   ]
  }
 ],
 "metadata": {
  "kernelspec": {
   "display_name": "Python 2",
   "language": "python",
   "name": "python2"
  },
  "language_info": {
   "codemirror_mode": {
    "name": "ipython",
    "version": 2
   },
   "file_extension": ".py",
   "mimetype": "text/x-python",
   "name": "python",
   "nbconvert_exporter": "python",
   "pygments_lexer": "ipython2",
   "version": "2.7.14"
  }
 },
 "nbformat": 4,
 "nbformat_minor": 2
}
